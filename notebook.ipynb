{
 "cells": [
  {
   "metadata": {},
   "cell_type": "markdown",
   "source": [
    "# Defining the Notebook for Defaulter Prediction System\n",
    "# Ensure to run this code in a Jupyter Notebook environment"
   ],
   "id": "4d48252759107953"
  },
  {
   "metadata": {},
   "cell_type": "code",
   "source": [
    "# Import necessary libraries\n",
    "import pandas as pd\n",
    "from sklearn.preprocessing import LabelEncoder\n",
    "from datetime import datetime\n",
    "from sklearn.model_selection import train_test_split\n",
    "from sklearn.ensemble import RandomForestClassifier\n",
    "from sklearn.metrics import accuracy_score, classification_report\n",
    "import joblib\n",
    "import os\n",
    "import matplotlib.pyplot as plt\n",
    "import seaborn as sns"
   ],
   "id": "78b44bbf70a61afa",
   "outputs": [],
   "execution_count": null
  },
  {
   "metadata": {},
   "cell_type": "markdown",
   "source": "# Function Definitions",
   "id": "eb35d2911c0686c5"
  },
  {
   "metadata": {},
   "cell_type": "code",
   "source": [
    "# Functions to calculate age and encode categorical variables\n",
    "def calculate_age(dob, report_date):\n",
    "    dob = datetime.strptime(dob, '%d/%m/%Y')\n",
    "    today = datetime.strptime(report_date, '%d/%m/%Y')\n",
    "    return today.year - dob.year - ((today.month, today.day) < (dob.month, dob.day))\n",
    "\n",
    "def calculate_bmi(weight, height):\n",
    "    if height > 0:\n",
    "        return weight / (height / 100) ** 2\n",
    "    return None\n",
    "\n",
    "def preprocess_data(file_path):\n",
    "    df = pd.read_excel(file_path, header=4)  # Make sure this header is correct\n",
    "    print(\"Columns in DataFrame:\", df.columns)\n",
    "    print(df.head())\n",
    "\n",
    "    df.columns = df.columns.str.strip()  # Strip whitespace from column names\n",
    "    df.ffill(inplace=True)  # Fill missing values\n",
    "\n",
    "    if 'DOB' not in df.columns:\n",
    "        raise KeyError(\"Column 'DOB' not found in the data.\")\n",
    "\n",
    "    # Convert relevant columns to datetime\n",
    "    df['Next Appointment Date'] = pd.to_datetime(df['Next Appointment Date'], errors='coerce')\n",
    "    df['Last Visit Date'] = pd.to_datetime(df['Last Visit Date'], errors='coerce')\n",
    "    df['Self Visit Date'] = pd.to_datetime(df['Self Visit Date'], errors='coerce')\n",
    "\n",
    "    # Calculate the number of days between visits\n",
    "    df['Days Between Last and Next Visit'] = (df['Next Appointment Date'] - df['Last Visit Date']).dt.days\n",
    "    df['Days Between Last and Self Visit'] = (df['Self Visit Date'] - df['Last Visit Date']).dt.days\n",
    "\n",
    "    # Calculate Age and BMI\n",
    "    df['Age'] = df.apply(lambda row: calculate_age(row['DOB'], '07/10/2024'), axis=1)\n",
    "    df['BMI'] = df.apply(lambda row: calculate_bmi(row['Weight'], row['Height']), axis=1)\n",
    "\n",
    "    # Create target variable based on converted date\n",
    "    df['defaulter'] = (df['Next Appointment Date'] < pd.Timestamp.now()).astype(int)\n",
    "\n",
    "    # Encode categorical features\n",
    "    label_encoder = LabelEncoder()\n",
    "    df['Sex'] = label_encoder.fit_transform(df['Sex'])\n",
    "    df['AHD Client'] = label_encoder.fit_transform(df['AHD Client'].fillna('No'))\n",
    "    df['Medical Cover'] = label_encoder.fit_transform(df['Medical Cover'].fillna('No'))\n",
    "\n",
    "    # Handle Blood Pressure\n",
    "    df[['Systolic_BP', 'Diastolic_BP']] = df['Blood Pressure'].str.split('/', expand=True).astype(float)\n",
    "\n",
    "    return df\n",
    "\n",
    "def split_data(df):\n",
    "    features = ['Age', 'BMI', 'Systolic_BP', 'Diastolic_BP',\n",
    "                'Days Between Last and Next Visit', 'Days Between Last and Self Visit',\n",
    "                'Months Of Prescription', 'AHD Client', 'Medical Cover', 'Sex']\n",
    "    target = 'defaulter'\n",
    "\n",
    "    X = df[features]\n",
    "    y = df[target]\n",
    "\n",
    "    return train_test_split(X, y, test_size=0.2, random_state=42)\n"
   ],
   "id": "eb068c95a154f11b",
   "outputs": [],
   "execution_count": null
  },
  {
   "metadata": {},
   "cell_type": "markdown",
   "source": "# Training the Model and saving it",
   "id": "8fccf60dccdeec38"
  },
  {
   "metadata": {},
   "cell_type": "code",
   "source": [
    "def train_random_forest(file_path):\n",
    "    df = preprocess_data(file_path)\n",
    "    X_train, X_test, y_train, y_test = split_data(df)\n",
    "\n",
    "    # Train Random Forest Classifier\n",
    "    clf = RandomForestClassifier(n_estimators=100, random_state=42)\n",
    "    clf.fit(X_train, y_train)\n",
    "\n",
    "    # Predictions and Evaluation\n",
    "    y_pred = clf.predict(X_test)\n",
    "    accuracy = accuracy_score(y_test, y_pred)\n",
    "    print(f\"Model Accuracy: {accuracy * 100:.2f}%\")\n",
    "\n",
    "    # Create models directory if it doesn't exist\n",
    "    if not os.path.exists('models'):\n",
    "        os.makedirs('models')\n",
    "\n",
    "    # Save the model\n",
    "    joblib.dump(clf, 'models/random_forest_model.pkl')"
   ],
   "id": "fb72896db870b267",
   "outputs": [],
   "execution_count": null
  },
  {
   "metadata": {},
   "cell_type": "markdown",
   "source": "# Evaluating the Model",
   "id": "6fea7387d76d654a"
  },
  {
   "metadata": {},
   "cell_type": "code",
   "source": [
    "def evaluate_model(file_path):\n",
    "    df = preprocess_data(file_path)\n",
    "    X = df[['Age', 'BMI', 'Systolic_BP', 'Diastolic_BP', 'Months Of Prescription', 'AHD Client', 'Medical Cover', 'Sex']]\n",
    "    y = df['defaulter']\n",
    "\n",
    "    model = joblib.load('models/random_forest_model.pkl')\n",
    "    y_pred = model.predict(X)\n",
    "\n",
    "    report = classification_report(y, y_pred)\n",
    "    print(report)\n",
    "    \n",
    "    # Visualizing feature importances\n",
    "    feature_importances = model.feature_importances_\n",
    "    features = X.columns\n",
    "    plt.figure(figsize=(10, 6))\n",
    "    sns.barplot(x=feature_importances, y=features)\n",
    "    plt.title('Feature Importances')\n",
    "    plt.xlabel('Importance')\n",
    "    plt.ylabel('Features')\n",
    "    plt.show()"
   ],
   "id": "dfe86bec382c4649",
   "outputs": [],
   "execution_count": null
  },
  {
   "metadata": {},
   "cell_type": "markdown",
   "source": [
    "# Running the Code\n",
    "# Main code execution starts here"
   ],
   "id": "355ac1f994ba4256"
  },
  {
   "metadata": {},
   "cell_type": "code",
   "source": [
    "file_path = 'activeOnART.xls'\n",
    "train_random_forest(file_path)\n",
    "evaluate_model(file_path)"
   ],
   "id": "4623f10cc322cfac",
   "outputs": [],
   "execution_count": null
  }
 ],
 "metadata": {
  "kernelspec": {
   "display_name": "Python 3",
   "language": "python",
   "name": "python3"
  },
  "language_info": {
   "codemirror_mode": {
    "name": "ipython",
    "version": 2
   },
   "file_extension": ".py",
   "mimetype": "text/x-python",
   "name": "python",
   "nbconvert_exporter": "python",
   "pygments_lexer": "ipython2",
   "version": "2.7.6"
  }
 },
 "nbformat": 4,
 "nbformat_minor": 5
}
